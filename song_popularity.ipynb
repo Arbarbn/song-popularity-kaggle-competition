{
  "nbformat": 4,
  "nbformat_minor": 0,
  "metadata": {
    "colab": {
      "name": "song popularity.ipynb",
      "provenance": [],
      "authorship_tag": "ABX9TyMrBabn86MnbKdD2u8WeQZc",
      "include_colab_link": true
    },
    "kernelspec": {
      "name": "python3",
      "display_name": "Python 3"
    },
    "language_info": {
      "name": "python"
    }
  },
  "cells": [
    {
      "cell_type": "markdown",
      "metadata": {
        "id": "view-in-github",
        "colab_type": "text"
      },
      "source": [
        "<a href=\"https://colab.research.google.com/github/Arbarbn/song-popularity-kaggle-competition/blob/main/song_popularity.ipynb\" target=\"_parent\"><img src=\"https://colab.research.google.com/assets/colab-badge.svg\" alt=\"Open In Colab\"/></a>"
      ]
    },
    {
      "cell_type": "code",
      "source": [
        "! pip install -q kaggle"
      ],
      "metadata": {
        "id": "UMsCEGvXjW5a"
      },
      "execution_count": null,
      "outputs": []
    },
    {
      "cell_type": "code",
      "source": [
        "from google.colab import files\n",
        "files.upload()"
      ],
      "metadata": {
        "colab": {
          "resources": {
            "http://localhost:8080/nbextensions/google.colab/files.js": {
              "data": "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",
              "ok": true,
              "headers": [
                [
                  "content-type",
                  "application/javascript"
                ]
              ],
              "status": 200,
              "status_text": ""
            }
          },
          "base_uri": "https://localhost:8080/",
          "height": 93
        },
        "id": "nd0T4xIljZK_",
        "outputId": "321ec27f-4ef7-4968-c1a4-5c2d585314a9"
      },
      "execution_count": null,
      "outputs": [
        {
          "output_type": "display_data",
          "data": {
            "text/html": [
              "\n",
              "     <input type=\"file\" id=\"files-bedaef40-625f-406c-afd4-fd75689db00e\" name=\"files[]\" multiple disabled\n",
              "        style=\"border:none\" />\n",
              "     <output id=\"result-bedaef40-625f-406c-afd4-fd75689db00e\">\n",
              "      Upload widget is only available when the cell has been executed in the\n",
              "      current browser session. Please rerun this cell to enable.\n",
              "      </output>\n",
              "      <script src=\"/nbextensions/google.colab/files.js\"></script> "
            ],
            "text/plain": [
              "<IPython.core.display.HTML object>"
            ]
          },
          "metadata": {}
        },
        {
          "output_type": "stream",
          "name": "stdout",
          "text": [
            "Saving kaggle.json to kaggle.json\n"
          ]
        },
        {
          "output_type": "execute_result",
          "data": {
            "text/plain": [
              "{'kaggle.json': b'{\"username\":\"arbarobbani\",\"key\":\"57c5e10f0dd3953ce6a01de50df52d26\"}'}"
            ]
          },
          "metadata": {},
          "execution_count": 2
        }
      ]
    },
    {
      "cell_type": "code",
      "source": [
        "! mkdir ~/.kaggle\n",
        "! cp kaggle.json ~/.kaggle/"
      ],
      "metadata": {
        "id": "Hb2PDNZFj7Sn"
      },
      "execution_count": null,
      "outputs": []
    },
    {
      "cell_type": "code",
      "source": [
        "! chmod 600 ~/.kaggle/kaggle.json"
      ],
      "metadata": {
        "id": "V2NtTf_Zk7o9"
      },
      "execution_count": null,
      "outputs": []
    },
    {
      "cell_type": "code",
      "source": [
        "! kaggle competitions download -c song-popularity-prediction"
      ],
      "metadata": {
        "colab": {
          "base_uri": "https://localhost:8080/"
        },
        "id": "FS4Yvus2k_FE",
        "outputId": "376ab7cb-bc8d-4b26-fd5b-85f7e2612e2b"
      },
      "execution_count": null,
      "outputs": [
        {
          "output_type": "stream",
          "name": "stdout",
          "text": [
            "Warning: Looks like you're using an outdated API Version, please consider updating (server 1.5.12 / client 1.5.4)\n",
            "Downloading train.csv.zip to /content\n",
            "  0% 0.00/3.33M [00:00<?, ?B/s]\n",
            "100% 3.33M/3.33M [00:00<00:00, 109MB/s]\n",
            "Downloading test.csv.zip to /content\n",
            "  0% 0.00/849k [00:00<?, ?B/s]\n",
            "100% 849k/849k [00:00<00:00, 122MB/s]\n",
            "Downloading sample_submission.csv to /content\n",
            "  0% 0.00/67.3k [00:00<?, ?B/s]\n",
            "100% 67.3k/67.3k [00:00<00:00, 69.3MB/s]\n"
          ]
        }
      ]
    },
    {
      "cell_type": "code",
      "source": [
        "! mkdir train\n",
        "! unzip train.csv.zip -d train"
      ],
      "metadata": {
        "colab": {
          "base_uri": "https://localhost:8080/"
        },
        "id": "Xzvs3-owlB3P",
        "outputId": "803b9581-88de-4a15-8a40-927509d9f8d1"
      },
      "execution_count": null,
      "outputs": [
        {
          "output_type": "stream",
          "name": "stdout",
          "text": [
            "Archive:  train.csv.zip\n",
            "  inflating: train/train.csv         \n"
          ]
        }
      ]
    },
    {
      "cell_type": "code",
      "source": [
        "! mkdir test\n",
        "! unzip test.csv.zip -d test"
      ],
      "metadata": {
        "colab": {
          "base_uri": "https://localhost:8080/"
        },
        "id": "nG_AWiSflu-p",
        "outputId": "d9ad0557-4926-43eb-cba8-00d4a24097e8"
      },
      "execution_count": null,
      "outputs": [
        {
          "output_type": "stream",
          "name": "stdout",
          "text": [
            "Archive:  test.csv.zip\n",
            "  inflating: test/test.csv           \n"
          ]
        }
      ]
    },
    {
      "cell_type": "markdown",
      "source": [
        "What will do? \n",
        "- Classify song is popular or not (Binary classification)\n",
        "\n",
        "Steps (CRISP-DM) :\n",
        "1. **data understanding** : statistics, null, correlation, distribution\n",
        "2. **data preparation** : feature engineering -> filling NaN value, handle distribution\n",
        "3. **modeling** : XGBOOST \n",
        "4. **evaluation** : if balance, we use classification_report from sklearn if imbalance, we use imbalance_classification_report from imblearn\n",
        "5. **deployment** : prepare submit file and push into kaggle"
      ],
      "metadata": {
        "id": "Ll3OSn8iqHHc"
      }
    },
    {
      "cell_type": "code",
      "source": [
        "import pandas as pd\n",
        "import matplotlib.pyplot as plt\n",
        "import seaborn as sns\n",
        "import numpy as np"
      ],
      "metadata": {
        "id": "jDqKegFJl4Dp"
      },
      "execution_count": null,
      "outputs": []
    },
    {
      "cell_type": "code",
      "source": [
        "df = pd.read_csv('/content/train/train.csv')\n",
        "df.head()"
      ],
      "metadata": {
        "colab": {
          "base_uri": "https://localhost:8080/",
          "height": 270
        },
        "id": "FhJgsFjDmXO5",
        "outputId": "cf982309-7bcf-4785-ce9b-c2b1d20ee628"
      },
      "execution_count": null,
      "outputs": [
        {
          "output_type": "execute_result",
          "data": {
            "text/html": [
              "\n",
              "  <div id=\"df-c9d20678-e2eb-41d4-a66c-efc13e2eb912\">\n",
              "    <div class=\"colab-df-container\">\n",
              "      <div>\n",
              "<style scoped>\n",
              "    .dataframe tbody tr th:only-of-type {\n",
              "        vertical-align: middle;\n",
              "    }\n",
              "\n",
              "    .dataframe tbody tr th {\n",
              "        vertical-align: top;\n",
              "    }\n",
              "\n",
              "    .dataframe thead th {\n",
              "        text-align: right;\n",
              "    }\n",
              "</style>\n",
              "<table border=\"1\" class=\"dataframe\">\n",
              "  <thead>\n",
              "    <tr style=\"text-align: right;\">\n",
              "      <th></th>\n",
              "      <th>id</th>\n",
              "      <th>song_duration_ms</th>\n",
              "      <th>acousticness</th>\n",
              "      <th>danceability</th>\n",
              "      <th>energy</th>\n",
              "      <th>instrumentalness</th>\n",
              "      <th>key</th>\n",
              "      <th>liveness</th>\n",
              "      <th>loudness</th>\n",
              "      <th>audio_mode</th>\n",
              "      <th>speechiness</th>\n",
              "      <th>tempo</th>\n",
              "      <th>time_signature</th>\n",
              "      <th>audio_valence</th>\n",
              "      <th>song_popularity</th>\n",
              "    </tr>\n",
              "  </thead>\n",
              "  <tbody>\n",
              "    <tr>\n",
              "      <th>0</th>\n",
              "      <td>0</td>\n",
              "      <td>212990.0</td>\n",
              "      <td>0.642286</td>\n",
              "      <td>0.856520</td>\n",
              "      <td>0.707073</td>\n",
              "      <td>0.002001</td>\n",
              "      <td>10.0</td>\n",
              "      <td>NaN</td>\n",
              "      <td>-5.619088</td>\n",
              "      <td>0</td>\n",
              "      <td>0.082570</td>\n",
              "      <td>158.386236</td>\n",
              "      <td>4</td>\n",
              "      <td>0.734642</td>\n",
              "      <td>0</td>\n",
              "    </tr>\n",
              "    <tr>\n",
              "      <th>1</th>\n",
              "      <td>1</td>\n",
              "      <td>NaN</td>\n",
              "      <td>0.054866</td>\n",
              "      <td>0.733289</td>\n",
              "      <td>0.835545</td>\n",
              "      <td>0.000996</td>\n",
              "      <td>8.0</td>\n",
              "      <td>0.436428</td>\n",
              "      <td>-5.236965</td>\n",
              "      <td>1</td>\n",
              "      <td>0.127358</td>\n",
              "      <td>102.752988</td>\n",
              "      <td>3</td>\n",
              "      <td>0.711531</td>\n",
              "      <td>1</td>\n",
              "    </tr>\n",
              "    <tr>\n",
              "      <th>2</th>\n",
              "      <td>2</td>\n",
              "      <td>193213.0</td>\n",
              "      <td>NaN</td>\n",
              "      <td>0.188387</td>\n",
              "      <td>0.783524</td>\n",
              "      <td>-0.002694</td>\n",
              "      <td>5.0</td>\n",
              "      <td>0.170499</td>\n",
              "      <td>-4.951759</td>\n",
              "      <td>0</td>\n",
              "      <td>0.052282</td>\n",
              "      <td>178.685791</td>\n",
              "      <td>3</td>\n",
              "      <td>0.425536</td>\n",
              "      <td>0</td>\n",
              "    </tr>\n",
              "    <tr>\n",
              "      <th>3</th>\n",
              "      <td>3</td>\n",
              "      <td>249893.0</td>\n",
              "      <td>0.488660</td>\n",
              "      <td>0.585234</td>\n",
              "      <td>0.552685</td>\n",
              "      <td>0.000608</td>\n",
              "      <td>0.0</td>\n",
              "      <td>0.094805</td>\n",
              "      <td>-7.893694</td>\n",
              "      <td>0</td>\n",
              "      <td>0.035618</td>\n",
              "      <td>128.715630</td>\n",
              "      <td>3</td>\n",
              "      <td>0.453597</td>\n",
              "      <td>0</td>\n",
              "    </tr>\n",
              "    <tr>\n",
              "      <th>4</th>\n",
              "      <td>4</td>\n",
              "      <td>165969.0</td>\n",
              "      <td>0.493017</td>\n",
              "      <td>NaN</td>\n",
              "      <td>0.740982</td>\n",
              "      <td>0.002033</td>\n",
              "      <td>10.0</td>\n",
              "      <td>0.094891</td>\n",
              "      <td>-2.684095</td>\n",
              "      <td>0</td>\n",
              "      <td>0.050746</td>\n",
              "      <td>121.928157</td>\n",
              "      <td>4</td>\n",
              "      <td>0.741311</td>\n",
              "      <td>0</td>\n",
              "    </tr>\n",
              "  </tbody>\n",
              "</table>\n",
              "</div>\n",
              "      <button class=\"colab-df-convert\" onclick=\"convertToInteractive('df-c9d20678-e2eb-41d4-a66c-efc13e2eb912')\"\n",
              "              title=\"Convert this dataframe to an interactive table.\"\n",
              "              style=\"display:none;\">\n",
              "        \n",
              "  <svg xmlns=\"http://www.w3.org/2000/svg\" height=\"24px\"viewBox=\"0 0 24 24\"\n",
              "       width=\"24px\">\n",
              "    <path d=\"M0 0h24v24H0V0z\" fill=\"none\"/>\n",
              "    <path d=\"M18.56 5.44l.94 2.06.94-2.06 2.06-.94-2.06-.94-.94-2.06-.94 2.06-2.06.94zm-11 1L8.5 8.5l.94-2.06 2.06-.94-2.06-.94L8.5 2.5l-.94 2.06-2.06.94zm10 10l.94 2.06.94-2.06 2.06-.94-2.06-.94-.94-2.06-.94 2.06-2.06.94z\"/><path d=\"M17.41 7.96l-1.37-1.37c-.4-.4-.92-.59-1.43-.59-.52 0-1.04.2-1.43.59L10.3 9.45l-7.72 7.72c-.78.78-.78 2.05 0 2.83L4 21.41c.39.39.9.59 1.41.59.51 0 1.02-.2 1.41-.59l7.78-7.78 2.81-2.81c.8-.78.8-2.07 0-2.86zM5.41 20L4 18.59l7.72-7.72 1.47 1.35L5.41 20z\"/>\n",
              "  </svg>\n",
              "      </button>\n",
              "      \n",
              "  <style>\n",
              "    .colab-df-container {\n",
              "      display:flex;\n",
              "      flex-wrap:wrap;\n",
              "      gap: 12px;\n",
              "    }\n",
              "\n",
              "    .colab-df-convert {\n",
              "      background-color: #E8F0FE;\n",
              "      border: none;\n",
              "      border-radius: 50%;\n",
              "      cursor: pointer;\n",
              "      display: none;\n",
              "      fill: #1967D2;\n",
              "      height: 32px;\n",
              "      padding: 0 0 0 0;\n",
              "      width: 32px;\n",
              "    }\n",
              "\n",
              "    .colab-df-convert:hover {\n",
              "      background-color: #E2EBFA;\n",
              "      box-shadow: 0px 1px 2px rgba(60, 64, 67, 0.3), 0px 1px 3px 1px rgba(60, 64, 67, 0.15);\n",
              "      fill: #174EA6;\n",
              "    }\n",
              "\n",
              "    [theme=dark] .colab-df-convert {\n",
              "      background-color: #3B4455;\n",
              "      fill: #D2E3FC;\n",
              "    }\n",
              "\n",
              "    [theme=dark] .colab-df-convert:hover {\n",
              "      background-color: #434B5C;\n",
              "      box-shadow: 0px 1px 3px 1px rgba(0, 0, 0, 0.15);\n",
              "      filter: drop-shadow(0px 1px 2px rgba(0, 0, 0, 0.3));\n",
              "      fill: #FFFFFF;\n",
              "    }\n",
              "  </style>\n",
              "\n",
              "      <script>\n",
              "        const buttonEl =\n",
              "          document.querySelector('#df-c9d20678-e2eb-41d4-a66c-efc13e2eb912 button.colab-df-convert');\n",
              "        buttonEl.style.display =\n",
              "          google.colab.kernel.accessAllowed ? 'block' : 'none';\n",
              "\n",
              "        async function convertToInteractive(key) {\n",
              "          const element = document.querySelector('#df-c9d20678-e2eb-41d4-a66c-efc13e2eb912');\n",
              "          const dataTable =\n",
              "            await google.colab.kernel.invokeFunction('convertToInteractive',\n",
              "                                                     [key], {});\n",
              "          if (!dataTable) return;\n",
              "\n",
              "          const docLinkHtml = 'Like what you see? Visit the ' +\n",
              "            '<a target=\"_blank\" href=https://colab.research.google.com/notebooks/data_table.ipynb>data table notebook</a>'\n",
              "            + ' to learn more about interactive tables.';\n",
              "          element.innerHTML = '';\n",
              "          dataTable['output_type'] = 'display_data';\n",
              "          await google.colab.output.renderOutput(dataTable, element);\n",
              "          const docLink = document.createElement('div');\n",
              "          docLink.innerHTML = docLinkHtml;\n",
              "          element.appendChild(docLink);\n",
              "        }\n",
              "      </script>\n",
              "    </div>\n",
              "  </div>\n",
              "  "
            ],
            "text/plain": [
              "   id  song_duration_ms  ...  audio_valence  song_popularity\n",
              "0   0          212990.0  ...       0.734642                0\n",
              "1   1               NaN  ...       0.711531                1\n",
              "2   2          193213.0  ...       0.425536                0\n",
              "3   3          249893.0  ...       0.453597                0\n",
              "4   4          165969.0  ...       0.741311                0\n",
              "\n",
              "[5 rows x 15 columns]"
            ]
          },
          "metadata": {},
          "execution_count": 10
        }
      ]
    },
    {
      "cell_type": "markdown",
      "source": [
        "Data understanding"
      ],
      "metadata": {
        "id": "rUUiUeU_0UIa"
      }
    },
    {
      "cell_type": "code",
      "source": [
        "df.describe()"
      ],
      "metadata": {
        "colab": {
          "base_uri": "https://localhost:8080/",
          "height": 364
        },
        "id": "WLuk2n_Yp381",
        "outputId": "6b2150d9-45fc-4f39-8359-b158f8236a85"
      },
      "execution_count": null,
      "outputs": [
        {
          "output_type": "execute_result",
          "data": {
            "text/html": [
              "\n",
              "  <div id=\"df-b58e1926-292c-48a6-81c9-4676ce38ef09\">\n",
              "    <div class=\"colab-df-container\">\n",
              "      <div>\n",
              "<style scoped>\n",
              "    .dataframe tbody tr th:only-of-type {\n",
              "        vertical-align: middle;\n",
              "    }\n",
              "\n",
              "    .dataframe tbody tr th {\n",
              "        vertical-align: top;\n",
              "    }\n",
              "\n",
              "    .dataframe thead th {\n",
              "        text-align: right;\n",
              "    }\n",
              "</style>\n",
              "<table border=\"1\" class=\"dataframe\">\n",
              "  <thead>\n",
              "    <tr style=\"text-align: right;\">\n",
              "      <th></th>\n",
              "      <th>id</th>\n",
              "      <th>song_duration_ms</th>\n",
              "      <th>acousticness</th>\n",
              "      <th>danceability</th>\n",
              "      <th>energy</th>\n",
              "      <th>instrumentalness</th>\n",
              "      <th>key</th>\n",
              "      <th>liveness</th>\n",
              "      <th>loudness</th>\n",
              "      <th>audio_mode</th>\n",
              "      <th>speechiness</th>\n",
              "      <th>tempo</th>\n",
              "      <th>time_signature</th>\n",
              "      <th>audio_valence</th>\n",
              "      <th>song_popularity</th>\n",
              "    </tr>\n",
              "  </thead>\n",
              "  <tbody>\n",
              "    <tr>\n",
              "      <th>count</th>\n",
              "      <td>40000.00000</td>\n",
              "      <td>35899.000000</td>\n",
              "      <td>36008.000000</td>\n",
              "      <td>35974.000000</td>\n",
              "      <td>36025.000000</td>\n",
              "      <td>36015.000000</td>\n",
              "      <td>35935.000000</td>\n",
              "      <td>35914.000000</td>\n",
              "      <td>36043.000000</td>\n",
              "      <td>40000.000000</td>\n",
              "      <td>40000.000000</td>\n",
              "      <td>40000.000000</td>\n",
              "      <td>40000.000000</td>\n",
              "      <td>40000.000000</td>\n",
              "      <td>40000.000000</td>\n",
              "    </tr>\n",
              "    <tr>\n",
              "      <th>mean</th>\n",
              "      <td>19999.50000</td>\n",
              "      <td>193165.847572</td>\n",
              "      <td>0.276404</td>\n",
              "      <td>0.570951</td>\n",
              "      <td>0.683932</td>\n",
              "      <td>0.036527</td>\n",
              "      <td>5.042605</td>\n",
              "      <td>0.198514</td>\n",
              "      <td>-7.407596</td>\n",
              "      <td>0.321150</td>\n",
              "      <td>0.094107</td>\n",
              "      <td>116.562815</td>\n",
              "      <td>3.394375</td>\n",
              "      <td>0.580645</td>\n",
              "      <td>0.364400</td>\n",
              "    </tr>\n",
              "    <tr>\n",
              "      <th>std</th>\n",
              "      <td>11547.14972</td>\n",
              "      <td>45822.127679</td>\n",
              "      <td>0.297928</td>\n",
              "      <td>0.190010</td>\n",
              "      <td>0.212662</td>\n",
              "      <td>0.150024</td>\n",
              "      <td>3.372728</td>\n",
              "      <td>0.151670</td>\n",
              "      <td>3.877198</td>\n",
              "      <td>0.466924</td>\n",
              "      <td>0.083591</td>\n",
              "      <td>26.167911</td>\n",
              "      <td>0.524405</td>\n",
              "      <td>0.237351</td>\n",
              "      <td>0.481268</td>\n",
              "    </tr>\n",
              "    <tr>\n",
              "      <th>min</th>\n",
              "      <td>0.00000</td>\n",
              "      <td>25658.000000</td>\n",
              "      <td>-0.013551</td>\n",
              "      <td>0.043961</td>\n",
              "      <td>-0.001682</td>\n",
              "      <td>-0.004398</td>\n",
              "      <td>0.000000</td>\n",
              "      <td>0.027843</td>\n",
              "      <td>-32.117911</td>\n",
              "      <td>0.000000</td>\n",
              "      <td>0.015065</td>\n",
              "      <td>62.055779</td>\n",
              "      <td>2.000000</td>\n",
              "      <td>0.013398</td>\n",
              "      <td>0.000000</td>\n",
              "    </tr>\n",
              "    <tr>\n",
              "      <th>25%</th>\n",
              "      <td>9999.75000</td>\n",
              "      <td>166254.500000</td>\n",
              "      <td>0.039618</td>\n",
              "      <td>0.424760</td>\n",
              "      <td>0.539276</td>\n",
              "      <td>0.000941</td>\n",
              "      <td>2.000000</td>\n",
              "      <td>0.111796</td>\n",
              "      <td>-9.578139</td>\n",
              "      <td>0.000000</td>\n",
              "      <td>0.038500</td>\n",
              "      <td>96.995309</td>\n",
              "      <td>3.000000</td>\n",
              "      <td>0.398669</td>\n",
              "      <td>0.000000</td>\n",
              "    </tr>\n",
              "    <tr>\n",
              "      <th>50%</th>\n",
              "      <td>19999.50000</td>\n",
              "      <td>186660.000000</td>\n",
              "      <td>0.140532</td>\n",
              "      <td>0.608234</td>\n",
              "      <td>0.704453</td>\n",
              "      <td>0.001974</td>\n",
              "      <td>5.000000</td>\n",
              "      <td>0.135945</td>\n",
              "      <td>-6.345413</td>\n",
              "      <td>0.000000</td>\n",
              "      <td>0.055881</td>\n",
              "      <td>113.795959</td>\n",
              "      <td>3.000000</td>\n",
              "      <td>0.598827</td>\n",
              "      <td>0.000000</td>\n",
              "    </tr>\n",
              "    <tr>\n",
              "      <th>75%</th>\n",
              "      <td>29999.25000</td>\n",
              "      <td>215116.000000</td>\n",
              "      <td>0.482499</td>\n",
              "      <td>0.718464</td>\n",
              "      <td>0.870503</td>\n",
              "      <td>0.003225</td>\n",
              "      <td>8.000000</td>\n",
              "      <td>0.212842</td>\n",
              "      <td>-4.620711</td>\n",
              "      <td>1.000000</td>\n",
              "      <td>0.118842</td>\n",
              "      <td>128.517383</td>\n",
              "      <td>4.000000</td>\n",
              "      <td>0.759635</td>\n",
              "      <td>1.000000</td>\n",
              "    </tr>\n",
              "    <tr>\n",
              "      <th>max</th>\n",
              "      <td>39999.00000</td>\n",
              "      <td>491671.000000</td>\n",
              "      <td>1.065284</td>\n",
              "      <td>0.957131</td>\n",
              "      <td>1.039741</td>\n",
              "      <td>1.075415</td>\n",
              "      <td>11.000000</td>\n",
              "      <td>1.065298</td>\n",
              "      <td>-0.877346</td>\n",
              "      <td>1.000000</td>\n",
              "      <td>0.560748</td>\n",
              "      <td>219.163578</td>\n",
              "      <td>5.000000</td>\n",
              "      <td>1.022558</td>\n",
              "      <td>1.000000</td>\n",
              "    </tr>\n",
              "  </tbody>\n",
              "</table>\n",
              "</div>\n",
              "      <button class=\"colab-df-convert\" onclick=\"convertToInteractive('df-b58e1926-292c-48a6-81c9-4676ce38ef09')\"\n",
              "              title=\"Convert this dataframe to an interactive table.\"\n",
              "              style=\"display:none;\">\n",
              "        \n",
              "  <svg xmlns=\"http://www.w3.org/2000/svg\" height=\"24px\"viewBox=\"0 0 24 24\"\n",
              "       width=\"24px\">\n",
              "    <path d=\"M0 0h24v24H0V0z\" fill=\"none\"/>\n",
              "    <path d=\"M18.56 5.44l.94 2.06.94-2.06 2.06-.94-2.06-.94-.94-2.06-.94 2.06-2.06.94zm-11 1L8.5 8.5l.94-2.06 2.06-.94-2.06-.94L8.5 2.5l-.94 2.06-2.06.94zm10 10l.94 2.06.94-2.06 2.06-.94-2.06-.94-.94-2.06-.94 2.06-2.06.94z\"/><path d=\"M17.41 7.96l-1.37-1.37c-.4-.4-.92-.59-1.43-.59-.52 0-1.04.2-1.43.59L10.3 9.45l-7.72 7.72c-.78.78-.78 2.05 0 2.83L4 21.41c.39.39.9.59 1.41.59.51 0 1.02-.2 1.41-.59l7.78-7.78 2.81-2.81c.8-.78.8-2.07 0-2.86zM5.41 20L4 18.59l7.72-7.72 1.47 1.35L5.41 20z\"/>\n",
              "  </svg>\n",
              "      </button>\n",
              "      \n",
              "  <style>\n",
              "    .colab-df-container {\n",
              "      display:flex;\n",
              "      flex-wrap:wrap;\n",
              "      gap: 12px;\n",
              "    }\n",
              "\n",
              "    .colab-df-convert {\n",
              "      background-color: #E8F0FE;\n",
              "      border: none;\n",
              "      border-radius: 50%;\n",
              "      cursor: pointer;\n",
              "      display: none;\n",
              "      fill: #1967D2;\n",
              "      height: 32px;\n",
              "      padding: 0 0 0 0;\n",
              "      width: 32px;\n",
              "    }\n",
              "\n",
              "    .colab-df-convert:hover {\n",
              "      background-color: #E2EBFA;\n",
              "      box-shadow: 0px 1px 2px rgba(60, 64, 67, 0.3), 0px 1px 3px 1px rgba(60, 64, 67, 0.15);\n",
              "      fill: #174EA6;\n",
              "    }\n",
              "\n",
              "    [theme=dark] .colab-df-convert {\n",
              "      background-color: #3B4455;\n",
              "      fill: #D2E3FC;\n",
              "    }\n",
              "\n",
              "    [theme=dark] .colab-df-convert:hover {\n",
              "      background-color: #434B5C;\n",
              "      box-shadow: 0px 1px 3px 1px rgba(0, 0, 0, 0.15);\n",
              "      filter: drop-shadow(0px 1px 2px rgba(0, 0, 0, 0.3));\n",
              "      fill: #FFFFFF;\n",
              "    }\n",
              "  </style>\n",
              "\n",
              "      <script>\n",
              "        const buttonEl =\n",
              "          document.querySelector('#df-b58e1926-292c-48a6-81c9-4676ce38ef09 button.colab-df-convert');\n",
              "        buttonEl.style.display =\n",
              "          google.colab.kernel.accessAllowed ? 'block' : 'none';\n",
              "\n",
              "        async function convertToInteractive(key) {\n",
              "          const element = document.querySelector('#df-b58e1926-292c-48a6-81c9-4676ce38ef09');\n",
              "          const dataTable =\n",
              "            await google.colab.kernel.invokeFunction('convertToInteractive',\n",
              "                                                     [key], {});\n",
              "          if (!dataTable) return;\n",
              "\n",
              "          const docLinkHtml = 'Like what you see? Visit the ' +\n",
              "            '<a target=\"_blank\" href=https://colab.research.google.com/notebooks/data_table.ipynb>data table notebook</a>'\n",
              "            + ' to learn more about interactive tables.';\n",
              "          element.innerHTML = '';\n",
              "          dataTable['output_type'] = 'display_data';\n",
              "          await google.colab.output.renderOutput(dataTable, element);\n",
              "          const docLink = document.createElement('div');\n",
              "          docLink.innerHTML = docLinkHtml;\n",
              "          element.appendChild(docLink);\n",
              "        }\n",
              "      </script>\n",
              "    </div>\n",
              "  </div>\n",
              "  "
            ],
            "text/plain": [
              "                id  song_duration_ms  ...  audio_valence  song_popularity\n",
              "count  40000.00000      35899.000000  ...   40000.000000     40000.000000\n",
              "mean   19999.50000     193165.847572  ...       0.580645         0.364400\n",
              "std    11547.14972      45822.127679  ...       0.237351         0.481268\n",
              "min        0.00000      25658.000000  ...       0.013398         0.000000\n",
              "25%     9999.75000     166254.500000  ...       0.398669         0.000000\n",
              "50%    19999.50000     186660.000000  ...       0.598827         0.000000\n",
              "75%    29999.25000     215116.000000  ...       0.759635         1.000000\n",
              "max    39999.00000     491671.000000  ...       1.022558         1.000000\n",
              "\n",
              "[8 rows x 15 columns]"
            ]
          },
          "metadata": {},
          "execution_count": 10
        }
      ]
    },
    {
      "cell_type": "code",
      "source": [
        "df.isnull().sum()"
      ],
      "metadata": {
        "colab": {
          "base_uri": "https://localhost:8080/"
        },
        "id": "Xvsg81CGp82i",
        "outputId": "273720fb-dc85-49e7-e124-bf808c7f20b3"
      },
      "execution_count": null,
      "outputs": [
        {
          "output_type": "execute_result",
          "data": {
            "text/plain": [
              "id                     0\n",
              "song_duration_ms    4101\n",
              "acousticness        3992\n",
              "danceability        4026\n",
              "energy              3975\n",
              "instrumentalness    3985\n",
              "key                 4065\n",
              "liveness            4086\n",
              "loudness            3957\n",
              "audio_mode             0\n",
              "speechiness            0\n",
              "tempo                  0\n",
              "time_signature         0\n",
              "audio_valence          0\n",
              "song_popularity        0\n",
              "dtype: int64"
            ]
          },
          "metadata": {},
          "execution_count": 11
        }
      ]
    },
    {
      "cell_type": "code",
      "source": [
        "df['song_popularity'].unique()"
      ],
      "metadata": {
        "colab": {
          "base_uri": "https://localhost:8080/"
        },
        "id": "XuP0jRGqqEJb",
        "outputId": "534c2220-1e0e-45a2-fc84-9db3658a75d3"
      },
      "execution_count": null,
      "outputs": [
        {
          "output_type": "execute_result",
          "data": {
            "text/plain": [
              "array([0, 1])"
            ]
          },
          "metadata": {},
          "execution_count": 12
        }
      ]
    },
    {
      "cell_type": "code",
      "source": [
        "popular = df[df.song_popularity==1].shape[0]\n",
        "unpopular = df[df.song_popularity==0].shape[0]\n",
        "print(\"Number of popular song in training:\", str(round(popular*100/df.shape[0], 2))+\"%\")\n",
        "print(\"Number of unpopular song in training:\", str(round(unpopular*100/df.shape[0], 2))+\"%\")"
      ],
      "metadata": {
        "colab": {
          "base_uri": "https://localhost:8080/"
        },
        "id": "72XHOEZ1uf5j",
        "outputId": "5da77e7b-f81b-4b29-cdfb-a2df8154c1d3"
      },
      "execution_count": null,
      "outputs": [
        {
          "output_type": "stream",
          "name": "stdout",
          "text": [
            "Number of popular song in training: 36.44%\n",
            "Number of unpopular song in training: 63.56%\n"
          ]
        }
      ]
    },
    {
      "cell_type": "markdown",
      "source": [
        "This shows that data is imbalance with number of unpopular more than popular song."
      ],
      "metadata": {
        "id": "EJ4QZGRuvjYC"
      }
    },
    {
      "cell_type": "markdown",
      "source": [
        "Distribution Class -> Imbalance 64 : 36"
      ],
      "metadata": {
        "id": "r7F4UYDF9Lul"
      }
    },
    {
      "cell_type": "code",
      "source": [
        "f, ax = plt.subplots(figsize=(12,8))\n",
        "sns.countplot(x='song_popularity', data=df, ax=ax)\n",
        "ax.set_title('Distribution Class \\n 0 : unpopular | 1 : popular')"
      ],
      "metadata": {
        "colab": {
          "base_uri": "https://localhost:8080/",
          "height": 547
        },
        "id": "X6OQAwyV7bix",
        "outputId": "929b8b33-e474-4850-e2d6-ddcb87017c05"
      },
      "execution_count": null,
      "outputs": [
        {
          "output_type": "execute_result",
          "data": {
            "text/plain": [
              "Text(0.5, 1.0, 'Distribution Class \\n 0 : unpopular | 1 : popular')"
            ]
          },
          "metadata": {},
          "execution_count": 14
        },
        {
          "output_type": "display_data",
          "data": {
            "image/png": "[encoded data removed]",
            "text/plain": [
              "<Figure size 864x576 with 1 Axes>"
            ]
          },
          "metadata": {
            "needs_background": "light"
          }
        }
      ]
    },
    {
      "cell_type": "markdown",
      "source": [
        "Correlation"
      ],
      "metadata": {
        "id": "5r5m_RWT9T7d"
      }
    },
    {
      "cell_type": "code",
      "source": [
        "_, ax = plt.subplots(figsize=(12,12))\n",
        "sns.heatmap(df.drop('id', axis=1).corr(), annot=True, ax = ax)"
      ],
      "metadata": {
        "colab": {
          "base_uri": "https://localhost:8080/",
          "height": 803
        },
        "id": "GmUmYRppqdkk",
        "outputId": "8428bba8-819e-4ed2-8d96-55508a16d428"
      },
      "execution_count": null,
      "outputs": [
        {
          "output_type": "execute_result",
          "data": {
            "text/plain": [
              "<matplotlib.axes._subplots.AxesSubplot at 0x7fe19b1f9910>"
            ]
          },
          "metadata": {},
          "execution_count": 15
        },
        {
          "output_type": "display_data",
          "data": {
            "image/png": "[encoded data removed]",
            "text/plain": [
              "<Figure size 864x864 with 2 Axes>"
            ]
          },
          "metadata": {
            "needs_background": "light"
          }
        }
      ]
    },
    {
      "cell_type": "markdown",
      "source": [
        "From heatmap, we can conclude feature energy and loudness has positive high correlation and negative high correlation between acousticness and loudness and between acousticness and energy .in this heatmap, there are no correlation feature with target class. But, if we look at higher correlation we get energy, audio_valence, loudness 😢😢😢😢😢"
      ],
      "metadata": {
        "id": "-UEUrPkL-Hy1"
      }
    },
    {
      "cell_type": "markdown",
      "source": [
        "Distribution per feature to target class"
      ],
      "metadata": {
        "id": "CghI1L4A-kIP"
      }
    },
    {
      "cell_type": "code",
      "source": [
        "from matplotlib import gridspec \n",
        "\n",
        "v_features = df.drop(['song_popularity', 'id'], axis=1).columns\n",
        "plt.figure(figsize=(12, 13*4))\n",
        "gs = gridspec.GridSpec(13,1)\n",
        "for i, cn in enumerate(df[v_features]):\n",
        "  ax = plt.subplot(gs[i])\n",
        "  sns.histplot(df[cn][df.song_popularity==0], color='blue', bins=35)\n",
        "  sns.histplot(df[cn][df.song_popularity==1], color='red', bins=35)\n",
        "  ax.set_xlabel('')\n",
        "  ax.set_title('Histogram of '+str(cn))\n",
        "  ax.legend(['unpopular', 'popular'])\n",
        "plt.show()"
      ],
      "metadata": {
        "colab": {
          "base_uri": "https://localhost:8080/",
          "height": 1000
        },
        "id": "7WfTVtkq915U",
        "outputId": "2970ec43-2eff-4aeb-951b-6c9846111145"
      },
      "execution_count": null,
      "outputs": [
        {
          "output_type": "display_data",
          "data": {
            "image/png": "[encoded data removed]",
            "text/plain": [
              "<Figure size 864x3744 with 13 Axes>"
            ]
          },
          "metadata": {
            "needs_background": "light"
          }
        }
      ]
    },
    {
      "cell_type": "code",
      "source": [
        "df[df.song_popularity==1].describe()"
      ],
      "metadata": {
        "colab": {
          "base_uri": "https://localhost:8080/",
          "height": 364
        },
        "id": "SrkQb4jg4wGT",
        "outputId": "362145ed-bb2f-4eec-ea7a-0618f65ddf48"
      },
      "execution_count": null,
      "outputs": [
        {
          "output_type": "execute_result",
          "data": {
            "text/html": [
              "\n",
              "  <div id=\"df-73ca8a2e-7414-4b63-ba3f-ba373fdca7a5\">\n",
              "    <div class=\"colab-df-container\">\n",
              "      <div>\n",
              "<style scoped>\n",
              "    .dataframe tbody tr th:only-of-type {\n",
              "        vertical-align: middle;\n",
              "    }\n",
              "\n",
              "    .dataframe tbody tr th {\n",
              "        vertical-align: top;\n",
              "    }\n",
              "\n",
              "    .dataframe thead th {\n",
              "        text-align: right;\n",
              "    }\n",
              "</style>\n",
              "<table border=\"1\" class=\"dataframe\">\n",
              "  <thead>\n",
              "    <tr style=\"text-align: right;\">\n",
              "      <th></th>\n",
              "      <th>id</th>\n",
              "      <th>song_duration_ms</th>\n",
              "      <th>acousticness</th>\n",
              "      <th>danceability</th>\n",
              "      <th>energy</th>\n",
              "      <th>instrumentalness</th>\n",
              "      <th>key</th>\n",
              "      <th>liveness</th>\n",
              "      <th>loudness</th>\n",
              "      <th>audio_mode</th>\n",
              "      <th>speechiness</th>\n",
              "      <th>tempo</th>\n",
              "      <th>time_signature</th>\n",
              "      <th>audio_valence</th>\n",
              "      <th>song_popularity</th>\n",
              "    </tr>\n",
              "  </thead>\n",
              "  <tbody>\n",
              "    <tr>\n",
              "      <th>count</th>\n",
              "      <td>14576.000000</td>\n",
              "      <td>13093.000000</td>\n",
              "      <td>13149.000000</td>\n",
              "      <td>13050.000000</td>\n",
              "      <td>13173.000000</td>\n",
              "      <td>13156.000000</td>\n",
              "      <td>13118.000000</td>\n",
              "      <td>13075.000000</td>\n",
              "      <td>13137.000000</td>\n",
              "      <td>14576.000000</td>\n",
              "      <td>14576.000000</td>\n",
              "      <td>14576.000000</td>\n",
              "      <td>14576.000000</td>\n",
              "      <td>14576.000000</td>\n",
              "      <td>14576.0</td>\n",
              "    </tr>\n",
              "    <tr>\n",
              "      <th>mean</th>\n",
              "      <td>19952.620472</td>\n",
              "      <td>192926.389521</td>\n",
              "      <td>0.286342</td>\n",
              "      <td>0.575376</td>\n",
              "      <td>0.668628</td>\n",
              "      <td>0.034646</td>\n",
              "      <td>5.121817</td>\n",
              "      <td>0.201835</td>\n",
              "      <td>-7.615769</td>\n",
              "      <td>0.320252</td>\n",
              "      <td>0.096781</td>\n",
              "      <td>116.155018</td>\n",
              "      <td>3.384193</td>\n",
              "      <td>0.566373</td>\n",
              "      <td>1.0</td>\n",
              "    </tr>\n",
              "    <tr>\n",
              "      <th>std</th>\n",
              "      <td>11574.629212</td>\n",
              "      <td>45622.433532</td>\n",
              "      <td>0.308891</td>\n",
              "      <td>0.190052</td>\n",
              "      <td>0.214797</td>\n",
              "      <td>0.145207</td>\n",
              "      <td>3.392557</td>\n",
              "      <td>0.155449</td>\n",
              "      <td>3.996839</td>\n",
              "      <td>0.466589</td>\n",
              "      <td>0.085458</td>\n",
              "      <td>26.651180</td>\n",
              "      <td>0.519303</td>\n",
              "      <td>0.236396</td>\n",
              "      <td>0.0</td>\n",
              "    </tr>\n",
              "    <tr>\n",
              "      <th>min</th>\n",
              "      <td>1.000000</td>\n",
              "      <td>33994.000000</td>\n",
              "      <td>-0.012245</td>\n",
              "      <td>0.049807</td>\n",
              "      <td>0.002322</td>\n",
              "      <td>-0.003854</td>\n",
              "      <td>0.000000</td>\n",
              "      <td>0.034597</td>\n",
              "      <td>-30.170399</td>\n",
              "      <td>0.000000</td>\n",
              "      <td>0.015153</td>\n",
              "      <td>62.889002</td>\n",
              "      <td>2.000000</td>\n",
              "      <td>0.013398</td>\n",
              "      <td>1.0</td>\n",
              "    </tr>\n",
              "    <tr>\n",
              "      <th>25%</th>\n",
              "      <td>9897.500000</td>\n",
              "      <td>167210.000000</td>\n",
              "      <td>0.040459</td>\n",
              "      <td>0.427033</td>\n",
              "      <td>0.529351</td>\n",
              "      <td>0.000867</td>\n",
              "      <td>2.000000</td>\n",
              "      <td>0.113356</td>\n",
              "      <td>-9.897729</td>\n",
              "      <td>0.000000</td>\n",
              "      <td>0.039289</td>\n",
              "      <td>96.085274</td>\n",
              "      <td>3.000000</td>\n",
              "      <td>0.384517</td>\n",
              "      <td>1.0</td>\n",
              "    </tr>\n",
              "    <tr>\n",
              "      <th>50%</th>\n",
              "      <td>19901.500000</td>\n",
              "      <td>187350.000000</td>\n",
              "      <td>0.139611</td>\n",
              "      <td>0.611323</td>\n",
              "      <td>0.684349</td>\n",
              "      <td>0.001902</td>\n",
              "      <td>6.000000</td>\n",
              "      <td>0.136270</td>\n",
              "      <td>-6.555986</td>\n",
              "      <td>0.000000</td>\n",
              "      <td>0.057684</td>\n",
              "      <td>112.222666</td>\n",
              "      <td>3.000000</td>\n",
              "      <td>0.581656</td>\n",
              "      <td>1.0</td>\n",
              "    </tr>\n",
              "    <tr>\n",
              "      <th>75%</th>\n",
              "      <td>29999.250000</td>\n",
              "      <td>213717.000000</td>\n",
              "      <td>0.505333</td>\n",
              "      <td>0.725616</td>\n",
              "      <td>0.857799</td>\n",
              "      <td>0.003231</td>\n",
              "      <td>8.000000</td>\n",
              "      <td>0.211746</td>\n",
              "      <td>-4.679423</td>\n",
              "      <td>1.000000</td>\n",
              "      <td>0.123746</td>\n",
              "      <td>128.871533</td>\n",
              "      <td>4.000000</td>\n",
              "      <td>0.741884</td>\n",
              "      <td>1.0</td>\n",
              "    </tr>\n",
              "    <tr>\n",
              "      <th>max</th>\n",
              "      <td>39997.000000</td>\n",
              "      <td>470577.000000</td>\n",
              "      <td>1.062516</td>\n",
              "      <td>0.954945</td>\n",
              "      <td>1.033747</td>\n",
              "      <td>1.064847</td>\n",
              "      <td>11.000000</td>\n",
              "      <td>1.028600</td>\n",
              "      <td>-1.218480</td>\n",
              "      <td>1.000000</td>\n",
              "      <td>0.533257</td>\n",
              "      <td>215.861368</td>\n",
              "      <td>5.000000</td>\n",
              "      <td>1.013484</td>\n",
              "      <td>1.0</td>\n",
              "    </tr>\n",
              "  </tbody>\n",
              "</table>\n",
              "</div>\n",
              "      <button class=\"colab-df-convert\" onclick=\"convertToInteractive('df-73ca8a2e-7414-4b63-ba3f-ba373fdca7a5')\"\n",
              "              title=\"Convert this dataframe to an interactive table.\"\n",
              "              style=\"display:none;\">\n",
              "        \n",
              "  <svg xmlns=\"http://www.w3.org/2000/svg\" height=\"24px\"viewBox=\"0 0 24 24\"\n",
              "       width=\"24px\">\n",
              "    <path d=\"M0 0h24v24H0V0z\" fill=\"none\"/>\n",
              "    <path d=\"M18.56 5.44l.94 2.06.94-2.06 2.06-.94-2.06-.94-.94-2.06-.94 2.06-2.06.94zm-11 1L8.5 8.5l.94-2.06 2.06-.94-2.06-.94L8.5 2.5l-.94 2.06-2.06.94zm10 10l.94 2.06.94-2.06 2.06-.94-2.06-.94-.94-2.06-.94 2.06-2.06.94z\"/><path d=\"M17.41 7.96l-1.37-1.37c-.4-.4-.92-.59-1.43-.59-.52 0-1.04.2-1.43.59L10.3 9.45l-7.72 7.72c-.78.78-.78 2.05 0 2.83L4 21.41c.39.39.9.59 1.41.59.51 0 1.02-.2 1.41-.59l7.78-7.78 2.81-2.81c.8-.78.8-2.07 0-2.86zM5.41 20L4 18.59l7.72-7.72 1.47 1.35L5.41 20z\"/>\n",
              "  </svg>\n",
              "      </button>\n",
              "      \n",
              "  <style>\n",
              "    .colab-df-container {\n",
              "      display:flex;\n",
              "      flex-wrap:wrap;\n",
              "      gap: 12px;\n",
              "    }\n",
              "\n",
              "    .colab-df-convert {\n",
              "      background-color: #E8F0FE;\n",
              "      border: none;\n",
              "      border-radius: 50%;\n",
              "      cursor: pointer;\n",
              "      display: none;\n",
              "      fill: #1967D2;\n",
              "      height: 32px;\n",
              "      padding: 0 0 0 0;\n",
              "      width: 32px;\n",
              "    }\n",
              "\n",
              "    .colab-df-convert:hover {\n",
              "      background-color: #E2EBFA;\n",
              "      box-shadow: 0px 1px 2px rgba(60, 64, 67, 0.3), 0px 1px 3px 1px rgba(60, 64, 67, 0.15);\n",
              "      fill: #174EA6;\n",
              "    }\n",
              "\n",
              "    [theme=dark] .colab-df-convert {\n",
              "      background-color: #3B4455;\n",
              "      fill: #D2E3FC;\n",
              "    }\n",
              "\n",
              "    [theme=dark] .colab-df-convert:hover {\n",
              "      background-color: #434B5C;\n",
              "      box-shadow: 0px 1px 3px 1px rgba(0, 0, 0, 0.15);\n",
              "      filter: drop-shadow(0px 1px 2px rgba(0, 0, 0, 0.3));\n",
              "      fill: #FFFFFF;\n",
              "    }\n",
              "  </style>\n",
              "\n",
              "      <script>\n",
              "        const buttonEl =\n",
              "          document.querySelector('#df-73ca8a2e-7414-4b63-ba3f-ba373fdca7a5 button.colab-df-convert');\n",
              "        buttonEl.style.display =\n",
              "          google.colab.kernel.accessAllowed ? 'block' : 'none';\n",
              "\n",
              "        async function convertToInteractive(key) {\n",
              "          const element = document.querySelector('#df-73ca8a2e-7414-4b63-ba3f-ba373fdca7a5');\n",
              "          const dataTable =\n",
              "            await google.colab.kernel.invokeFunction('convertToInteractive',\n",
              "                                                     [key], {});\n",
              "          if (!dataTable) return;\n",
              "\n",
              "          const docLinkHtml = 'Like what you see? Visit the ' +\n",
              "            '<a target=\"_blank\" href=https://colab.research.google.com/notebooks/data_table.ipynb>data table notebook</a>'\n",
              "            + ' to learn more about interactive tables.';\n",
              "          element.innerHTML = '';\n",
              "          dataTable['output_type'] = 'display_data';\n",
              "          await google.colab.output.renderOutput(dataTable, element);\n",
              "          const docLink = document.createElement('div');\n",
              "          docLink.innerHTML = docLinkHtml;\n",
              "          element.appendChild(docLink);\n",
              "        }\n",
              "      </script>\n",
              "    </div>\n",
              "  </div>\n",
              "  "
            ],
            "text/plain": [
              "                 id  song_duration_ms  ...  audio_valence  song_popularity\n",
              "count  14576.000000      13093.000000  ...   14576.000000          14576.0\n",
              "mean   19952.620472     192926.389521  ...       0.566373              1.0\n",
              "std    11574.629212      45622.433532  ...       0.236396              0.0\n",
              "min        1.000000      33994.000000  ...       0.013398              1.0\n",
              "25%     9897.500000     167210.000000  ...       0.384517              1.0\n",
              "50%    19901.500000     187350.000000  ...       0.581656              1.0\n",
              "75%    29999.250000     213717.000000  ...       0.741884              1.0\n",
              "max    39997.000000     470577.000000  ...       1.013484              1.0\n",
              "\n",
              "[8 rows x 15 columns]"
            ]
          },
          "metadata": {},
          "execution_count": 17
        }
      ]
    },
    {
      "cell_type": "code",
      "source": [
        "df[df.song_popularity==0].describe()"
      ],
      "metadata": {
        "colab": {
          "base_uri": "https://localhost:8080/",
          "height": 364
        },
        "id": "Os_67eiu45GU",
        "outputId": "27652379-6b71-406e-f530-e8d6194ce45d"
      },
      "execution_count": null,
      "outputs": [
        {
          "output_type": "execute_result",
          "data": {
            "text/html": [
              "\n",
              "  <div id=\"df-7ecc2d8e-c577-46a1-b7d7-8b46105997dc\">\n",
              "    <div class=\"colab-df-container\">\n",
              "      <div>\n",
              "<style scoped>\n",
              "    .dataframe tbody tr th:only-of-type {\n",
              "        vertical-align: middle;\n",
              "    }\n",
              "\n",
              "    .dataframe tbody tr th {\n",
              "        vertical-align: top;\n",
              "    }\n",
              "\n",
              "    .dataframe thead th {\n",
              "        text-align: right;\n",
              "    }\n",
              "</style>\n",
              "<table border=\"1\" class=\"dataframe\">\n",
              "  <thead>\n",
              "    <tr style=\"text-align: right;\">\n",
              "      <th></th>\n",
              "      <th>id</th>\n",
              "      <th>song_duration_ms</th>\n",
              "      <th>acousticness</th>\n",
              "      <th>danceability</th>\n",
              "      <th>energy</th>\n",
              "      <th>instrumentalness</th>\n",
              "      <th>key</th>\n",
              "      <th>liveness</th>\n",
              "      <th>loudness</th>\n",
              "      <th>audio_mode</th>\n",
              "      <th>speechiness</th>\n",
              "      <th>tempo</th>\n",
              "      <th>time_signature</th>\n",
              "      <th>audio_valence</th>\n",
              "      <th>song_popularity</th>\n",
              "    </tr>\n",
              "  </thead>\n",
              "  <tbody>\n",
              "    <tr>\n",
              "      <th>count</th>\n",
              "      <td>25424.000000</td>\n",
              "      <td>22806.000000</td>\n",
              "      <td>22859.000000</td>\n",
              "      <td>22924.000000</td>\n",
              "      <td>22852.000000</td>\n",
              "      <td>22859.000000</td>\n",
              "      <td>22817.000000</td>\n",
              "      <td>22839.000000</td>\n",
              "      <td>22906.000000</td>\n",
              "      <td>25424.000000</td>\n",
              "      <td>25424.000000</td>\n",
              "      <td>25424.000000</td>\n",
              "      <td>25424.000000</td>\n",
              "      <td>25424.000000</td>\n",
              "      <td>25424.0</td>\n",
              "    </tr>\n",
              "    <tr>\n",
              "      <th>mean</th>\n",
              "      <td>20026.376809</td>\n",
              "      <td>193303.321231</td>\n",
              "      <td>0.270688</td>\n",
              "      <td>0.568432</td>\n",
              "      <td>0.692754</td>\n",
              "      <td>0.037609</td>\n",
              "      <td>4.997064</td>\n",
              "      <td>0.196612</td>\n",
              "      <td>-7.288205</td>\n",
              "      <td>0.321665</td>\n",
              "      <td>0.092573</td>\n",
              "      <td>116.796612</td>\n",
              "      <td>3.400212</td>\n",
              "      <td>0.588827</td>\n",
              "      <td>0.0</td>\n",
              "    </tr>\n",
              "    <tr>\n",
              "      <th>std</th>\n",
              "      <td>11531.507655</td>\n",
              "      <td>45936.814889</td>\n",
              "      <td>0.291289</td>\n",
              "      <td>0.189945</td>\n",
              "      <td>0.210922</td>\n",
              "      <td>0.152720</td>\n",
              "      <td>3.360504</td>\n",
              "      <td>0.149434</td>\n",
              "      <td>3.801833</td>\n",
              "      <td>0.467124</td>\n",
              "      <td>0.082464</td>\n",
              "      <td>25.884407</td>\n",
              "      <td>0.527229</td>\n",
              "      <td>0.237515</td>\n",
              "      <td>0.0</td>\n",
              "    </tr>\n",
              "    <tr>\n",
              "      <th>min</th>\n",
              "      <td>0.000000</td>\n",
              "      <td>25658.000000</td>\n",
              "      <td>-0.013551</td>\n",
              "      <td>0.043961</td>\n",
              "      <td>-0.001682</td>\n",
              "      <td>-0.004398</td>\n",
              "      <td>0.000000</td>\n",
              "      <td>0.027843</td>\n",
              "      <td>-32.117911</td>\n",
              "      <td>0.000000</td>\n",
              "      <td>0.015065</td>\n",
              "      <td>62.055779</td>\n",
              "      <td>2.000000</td>\n",
              "      <td>0.027657</td>\n",
              "      <td>0.0</td>\n",
              "    </tr>\n",
              "    <tr>\n",
              "      <th>25%</th>\n",
              "      <td>10070.750000</td>\n",
              "      <td>165677.000000</td>\n",
              "      <td>0.039132</td>\n",
              "      <td>0.423877</td>\n",
              "      <td>0.545368</td>\n",
              "      <td>0.000989</td>\n",
              "      <td>2.000000</td>\n",
              "      <td>0.110872</td>\n",
              "      <td>-9.387710</td>\n",
              "      <td>0.000000</td>\n",
              "      <td>0.038097</td>\n",
              "      <td>97.493855</td>\n",
              "      <td>3.000000</td>\n",
              "      <td>0.408112</td>\n",
              "      <td>0.0</td>\n",
              "    </tr>\n",
              "    <tr>\n",
              "      <th>50%</th>\n",
              "      <td>20065.500000</td>\n",
              "      <td>186261.500000</td>\n",
              "      <td>0.140956</td>\n",
              "      <td>0.606252</td>\n",
              "      <td>0.718353</td>\n",
              "      <td>0.002020</td>\n",
              "      <td>5.000000</td>\n",
              "      <td>0.135706</td>\n",
              "      <td>-6.232257</td>\n",
              "      <td>0.000000</td>\n",
              "      <td>0.054780</td>\n",
              "      <td>114.334715</td>\n",
              "      <td>3.000000</td>\n",
              "      <td>0.609070</td>\n",
              "      <td>0.0</td>\n",
              "    </tr>\n",
              "    <tr>\n",
              "      <th>75%</th>\n",
              "      <td>29997.250000</td>\n",
              "      <td>215940.500000</td>\n",
              "      <td>0.468349</td>\n",
              "      <td>0.714748</td>\n",
              "      <td>0.876354</td>\n",
              "      <td>0.003222</td>\n",
              "      <td>8.000000</td>\n",
              "      <td>0.213425</td>\n",
              "      <td>-4.586064</td>\n",
              "      <td>1.000000</td>\n",
              "      <td>0.116147</td>\n",
              "      <td>128.295829</td>\n",
              "      <td>4.000000</td>\n",
              "      <td>0.770013</td>\n",
              "      <td>0.0</td>\n",
              "    </tr>\n",
              "    <tr>\n",
              "      <th>max</th>\n",
              "      <td>39999.000000</td>\n",
              "      <td>491671.000000</td>\n",
              "      <td>1.065284</td>\n",
              "      <td>0.957131</td>\n",
              "      <td>1.039741</td>\n",
              "      <td>1.075415</td>\n",
              "      <td>11.000000</td>\n",
              "      <td>1.065298</td>\n",
              "      <td>-0.877346</td>\n",
              "      <td>1.000000</td>\n",
              "      <td>0.560748</td>\n",
              "      <td>219.163578</td>\n",
              "      <td>5.000000</td>\n",
              "      <td>1.022558</td>\n",
              "      <td>0.0</td>\n",
              "    </tr>\n",
              "  </tbody>\n",
              "</table>\n",
              "</div>\n",
              "      <button class=\"colab-df-convert\" onclick=\"convertToInteractive('df-7ecc2d8e-c577-46a1-b7d7-8b46105997dc')\"\n",
              "              title=\"Convert this dataframe to an interactive table.\"\n",
              "              style=\"display:none;\">\n",
              "        \n",
              "  <svg xmlns=\"http://www.w3.org/2000/svg\" height=\"24px\"viewBox=\"0 0 24 24\"\n",
              "       width=\"24px\">\n",
              "    <path d=\"M0 0h24v24H0V0z\" fill=\"none\"/>\n",
              "    <path d=\"M18.56 5.44l.94 2.06.94-2.06 2.06-.94-2.06-.94-.94-2.06-.94 2.06-2.06.94zm-11 1L8.5 8.5l.94-2.06 2.06-.94-2.06-.94L8.5 2.5l-.94 2.06-2.06.94zm10 10l.94 2.06.94-2.06 2.06-.94-2.06-.94-.94-2.06-.94 2.06-2.06.94z\"/><path d=\"M17.41 7.96l-1.37-1.37c-.4-.4-.92-.59-1.43-.59-.52 0-1.04.2-1.43.59L10.3 9.45l-7.72 7.72c-.78.78-.78 2.05 0 2.83L4 21.41c.39.39.9.59 1.41.59.51 0 1.02-.2 1.41-.59l7.78-7.78 2.81-2.81c.8-.78.8-2.07 0-2.86zM5.41 20L4 18.59l7.72-7.72 1.47 1.35L5.41 20z\"/>\n",
              "  </svg>\n",
              "      </button>\n",
              "      \n",
              "  <style>\n",
              "    .colab-df-container {\n",
              "      display:flex;\n",
              "      flex-wrap:wrap;\n",
              "      gap: 12px;\n",
              "    }\n",
              "\n",
              "    .colab-df-convert {\n",
              "      background-color: #E8F0FE;\n",
              "      border: none;\n",
              "      border-radius: 50%;\n",
              "      cursor: pointer;\n",
              "      display: none;\n",
              "      fill: #1967D2;\n",
              "      height: 32px;\n",
              "      padding: 0 0 0 0;\n",
              "      width: 32px;\n",
              "    }\n",
              "\n",
              "    .colab-df-convert:hover {\n",
              "      background-color: #E2EBFA;\n",
              "      box-shadow: 0px 1px 2px rgba(60, 64, 67, 0.3), 0px 1px 3px 1px rgba(60, 64, 67, 0.15);\n",
              "      fill: #174EA6;\n",
              "    }\n",
              "\n",
              "    [theme=dark] .colab-df-convert {\n",
              "      background-color: #3B4455;\n",
              "      fill: #D2E3FC;\n",
              "    }\n",
              "\n",
              "    [theme=dark] .colab-df-convert:hover {\n",
              "      background-color: #434B5C;\n",
              "      box-shadow: 0px 1px 3px 1px rgba(0, 0, 0, 0.15);\n",
              "      filter: drop-shadow(0px 1px 2px rgba(0, 0, 0, 0.3));\n",
              "      fill: #FFFFFF;\n",
              "    }\n",
              "  </style>\n",
              "\n",
              "      <script>\n",
              "        const buttonEl =\n",
              "          document.querySelector('#df-7ecc2d8e-c577-46a1-b7d7-8b46105997dc button.colab-df-convert');\n",
              "        buttonEl.style.display =\n",
              "          google.colab.kernel.accessAllowed ? 'block' : 'none';\n",
              "\n",
              "        async function convertToInteractive(key) {\n",
              "          const element = document.querySelector('#df-7ecc2d8e-c577-46a1-b7d7-8b46105997dc');\n",
              "          const dataTable =\n",
              "            await google.colab.kernel.invokeFunction('convertToInteractive',\n",
              "                                                     [key], {});\n",
              "          if (!dataTable) return;\n",
              "\n",
              "          const docLinkHtml = 'Like what you see? Visit the ' +\n",
              "            '<a target=\"_blank\" href=https://colab.research.google.com/notebooks/data_table.ipynb>data table notebook</a>'\n",
              "            + ' to learn more about interactive tables.';\n",
              "          element.innerHTML = '';\n",
              "          dataTable['output_type'] = 'display_data';\n",
              "          await google.colab.output.renderOutput(dataTable, element);\n",
              "          const docLink = document.createElement('div');\n",
              "          docLink.innerHTML = docLinkHtml;\n",
              "          element.appendChild(docLink);\n",
              "        }\n",
              "      </script>\n",
              "    </div>\n",
              "  </div>\n",
              "  "
            ],
            "text/plain": [
              "                 id  song_duration_ms  ...  audio_valence  song_popularity\n",
              "count  25424.000000      22806.000000  ...   25424.000000          25424.0\n",
              "mean   20026.376809     193303.321231  ...       0.588827              0.0\n",
              "std    11531.507655      45936.814889  ...       0.237515              0.0\n",
              "min        0.000000      25658.000000  ...       0.027657              0.0\n",
              "25%    10070.750000     165677.000000  ...       0.408112              0.0\n",
              "50%    20065.500000     186261.500000  ...       0.609070              0.0\n",
              "75%    29997.250000     215940.500000  ...       0.770013              0.0\n",
              "max    39999.000000     491671.000000  ...       1.022558              0.0\n",
              "\n",
              "[8 rows x 15 columns]"
            ]
          },
          "metadata": {},
          "execution_count": 18
        }
      ]
    },
    {
      "cell_type": "markdown",
      "source": [
        "From this histogram, we cant distinguish between popular and unpopular song. We can see with same range but with different count because of the imbalance. So, we must to data preparation. "
      ],
      "metadata": {
        "id": "oBXojJln0BXL"
      }
    },
    {
      "cell_type": "markdown",
      "source": [
        "we will look at test data to synchronize with data train"
      ],
      "metadata": {
        "id": "-4_E6mC8-6n8"
      }
    },
    {
      "cell_type": "code",
      "source": [
        "df.shape"
      ],
      "metadata": {
        "colab": {
          "base_uri": "https://localhost:8080/"
        },
        "id": "vTlLbaC0q-QW",
        "outputId": "f9908c67-83f7-4f34-ad39-9326eeeb5534"
      },
      "execution_count": null,
      "outputs": [
        {
          "output_type": "execute_result",
          "data": {
            "text/plain": [
              "(40000, 15)"
            ]
          },
          "metadata": {},
          "execution_count": 51
        }
      ]
    },
    {
      "cell_type": "code",
      "source": [
        "X_train = df.drop(['song_popularity', 'id'], axis=1)\n",
        "y_train = df['song_popularity']"
      ],
      "metadata": {
        "id": "e-Xmj6V8EJUy"
      },
      "execution_count": null,
      "outputs": []
    },
    {
      "cell_type": "code",
      "source": [
        "X_train.shape"
      ],
      "metadata": {
        "colab": {
          "base_uri": "https://localhost:8080/"
        },
        "id": "0DS1OQNNqx_G",
        "outputId": "05682dd0-7097-487b-8249-95fa138f80cd"
      },
      "execution_count": null,
      "outputs": [
        {
          "output_type": "execute_result",
          "data": {
            "text/plain": [
              "(40000, 13)"
            ]
          },
          "metadata": {},
          "execution_count": 54
        }
      ]
    },
    {
      "cell_type": "code",
      "source": [
        "y_train.shape"
      ],
      "metadata": {
        "colab": {
          "base_uri": "https://localhost:8080/"
        },
        "id": "GdomJCaRrEFv",
        "outputId": "a1a72903-b9c9-429b-d012-e040e0728d2a"
      },
      "execution_count": null,
      "outputs": [
        {
          "output_type": "execute_result",
          "data": {
            "text/plain": [
              "(40000,)"
            ]
          },
          "metadata": {},
          "execution_count": 55
        }
      ]
    },
    {
      "cell_type": "code",
      "source": [
        "from sklearn.experimental import enable_iterative_imputer\n",
        "from sklearn.impute import IterativeImputer\n",
        "\n",
        "imputer = IterativeImputer(missing_values=np.nan, initial_strategy=\"median\", max_iter=70)\n",
        "for y in X_train.columns:\n",
        "    X_train[y] = imputer.fit_transform(X_train[[y]]).ravel()\n",
        "          \n",
        "X_train['song_popularity'] = df.song_popularity"
      ],
      "metadata": {
        "id": "quNxstrJXHCp"
      },
      "execution_count": null,
      "outputs": []
    },
    {
      "cell_type": "code",
      "source": [
        "train = X_train.copy()"
      ],
      "metadata": {
        "id": "QiAwu-Kmc2Lm"
      },
      "execution_count": null,
      "outputs": []
    },
    {
      "cell_type": "code",
      "source": [
        "train.shape"
      ],
      "metadata": {
        "colab": {
          "base_uri": "https://localhost:8080/"
        },
        "id": "iBwykBU7rZd5",
        "outputId": "4d77db69-3b46-4a63-d3ec-c73386d40f68"
      },
      "execution_count": null,
      "outputs": [
        {
          "output_type": "execute_result",
          "data": {
            "text/plain": [
              "(40000, 14)"
            ]
          },
          "metadata": {},
          "execution_count": 15
        }
      ]
    },
    {
      "cell_type": "code",
      "source": [
        "train.isnull().sum()"
      ],
      "metadata": {
        "colab": {
          "base_uri": "https://localhost:8080/"
        },
        "id": "MlqatWPNrdDV",
        "outputId": "710868be-d35c-4557-b6e1-9f12e0572b71"
      },
      "execution_count": null,
      "outputs": [
        {
          "output_type": "execute_result",
          "data": {
            "text/plain": [
              "song_duration_ms    0\n",
              "acousticness        0\n",
              "danceability        0\n",
              "energy              0\n",
              "instrumentalness    0\n",
              "key                 0\n",
              "liveness            0\n",
              "loudness            0\n",
              "audio_mode          0\n",
              "speechiness         0\n",
              "tempo               0\n",
              "time_signature      0\n",
              "audio_valence       0\n",
              "song_popularity     0\n",
              "dtype: int64"
            ]
          },
          "metadata": {},
          "execution_count": 59
        }
      ]
    },
    {
      "cell_type": "code",
      "source": [
        "df_test = pd.read_csv('/content/test/test.csv')\n",
        "\n",
        "test = df_test.drop('id', axis=1)\n",
        "test.head()"
      ],
      "metadata": {
        "colab": {
          "base_uri": "https://localhost:8080/",
          "height": 270
        },
        "id": "Ugk_7BMN-vUH",
        "outputId": "5a71f442-65f1-4401-8bfc-83a85c39dacd"
      },
      "execution_count": null,
      "outputs": [
        {
          "output_type": "execute_result",
          "data": {
            "text/html": [
              "\n",
              "  <div id=\"df-f65e4ab4-9c8c-44d1-9014-c22e8222a83d\">\n",
              "    <div class=\"colab-df-container\">\n",
              "      <div>\n",
              "<style scoped>\n",
              "    .dataframe tbody tr th:only-of-type {\n",
              "        vertical-align: middle;\n",
              "    }\n",
              "\n",
              "    .dataframe tbody tr th {\n",
              "        vertical-align: top;\n",
              "    }\n",
              "\n",
              "    .dataframe thead th {\n",
              "        text-align: right;\n",
              "    }\n",
              "</style>\n",
              "<table border=\"1\" class=\"dataframe\">\n",
              "  <thead>\n",
              "    <tr style=\"text-align: right;\">\n",
              "      <th></th>\n",
              "      <th>song_duration_ms</th>\n",
              "      <th>acousticness</th>\n",
              "      <th>danceability</th>\n",
              "      <th>energy</th>\n",
              "      <th>instrumentalness</th>\n",
              "      <th>key</th>\n",
              "      <th>liveness</th>\n",
              "      <th>loudness</th>\n",
              "      <th>audio_mode</th>\n",
              "      <th>speechiness</th>\n",
              "      <th>tempo</th>\n",
              "      <th>time_signature</th>\n",
              "      <th>audio_valence</th>\n",
              "    </tr>\n",
              "  </thead>\n",
              "  <tbody>\n",
              "    <tr>\n",
              "      <th>0</th>\n",
              "      <td>308523.0</td>\n",
              "      <td>0.019845</td>\n",
              "      <td>NaN</td>\n",
              "      <td>0.908939</td>\n",
              "      <td>0.001438</td>\n",
              "      <td>NaN</td>\n",
              "      <td>0.112832</td>\n",
              "      <td>-8.890172</td>\n",
              "      <td>0</td>\n",
              "      <td>0.082714</td>\n",
              "      <td>126.129304</td>\n",
              "      <td>4</td>\n",
              "      <td>0.399620</td>\n",
              "    </tr>\n",
              "    <tr>\n",
              "      <th>1</th>\n",
              "      <td>200011.0</td>\n",
              "      <td>0.070119</td>\n",
              "      <td>0.731256</td>\n",
              "      <td>0.444655</td>\n",
              "      <td>0.002020</td>\n",
              "      <td>10.0</td>\n",
              "      <td>0.139040</td>\n",
              "      <td>-6.301214</td>\n",
              "      <td>0</td>\n",
              "      <td>0.061685</td>\n",
              "      <td>86.448149</td>\n",
              "      <td>3</td>\n",
              "      <td>0.499424</td>\n",
              "    </tr>\n",
              "    <tr>\n",
              "      <th>2</th>\n",
              "      <td>279758.0</td>\n",
              "      <td>0.810637</td>\n",
              "      <td>0.568858</td>\n",
              "      <td>0.125466</td>\n",
              "      <td>0.898841</td>\n",
              "      <td>0.0</td>\n",
              "      <td>0.226614</td>\n",
              "      <td>-11.542478</td>\n",
              "      <td>0</td>\n",
              "      <td>0.041868</td>\n",
              "      <td>99.544351</td>\n",
              "      <td>3</td>\n",
              "      <td>0.564951</td>\n",
              "    </tr>\n",
              "    <tr>\n",
              "      <th>3</th>\n",
              "      <td>249197.0</td>\n",
              "      <td>NaN</td>\n",
              "      <td>0.871789</td>\n",
              "      <td>0.557342</td>\n",
              "      <td>0.000715</td>\n",
              "      <td>4.0</td>\n",
              "      <td>0.325391</td>\n",
              "      <td>-7.905546</td>\n",
              "      <td>1</td>\n",
              "      <td>0.046815</td>\n",
              "      <td>123.063854</td>\n",
              "      <td>4</td>\n",
              "      <td>0.906485</td>\n",
              "    </tr>\n",
              "    <tr>\n",
              "      <th>4</th>\n",
              "      <td>NaN</td>\n",
              "      <td>0.765568</td>\n",
              "      <td>0.624687</td>\n",
              "      <td>0.710794</td>\n",
              "      <td>0.000346</td>\n",
              "      <td>8.0</td>\n",
              "      <td>0.308284</td>\n",
              "      <td>NaN</td>\n",
              "      <td>0</td>\n",
              "      <td>0.129284</td>\n",
              "      <td>88.703121</td>\n",
              "      <td>3</td>\n",
              "      <td>0.935571</td>\n",
              "    </tr>\n",
              "  </tbody>\n",
              "</table>\n",
              "</div>\n",
              "      <button class=\"colab-df-convert\" onclick=\"convertToInteractive('df-f65e4ab4-9c8c-44d1-9014-c22e8222a83d')\"\n",
              "              title=\"Convert this dataframe to an interactive table.\"\n",
              "              style=\"display:none;\">\n",
              "        \n",
              "  <svg xmlns=\"http://www.w3.org/2000/svg\" height=\"24px\"viewBox=\"0 0 24 24\"\n",
              "       width=\"24px\">\n",
              "    <path d=\"M0 0h24v24H0V0z\" fill=\"none\"/>\n",
              "    <path d=\"M18.56 5.44l.94 2.06.94-2.06 2.06-.94-2.06-.94-.94-2.06-.94 2.06-2.06.94zm-11 1L8.5 8.5l.94-2.06 2.06-.94-2.06-.94L8.5 2.5l-.94 2.06-2.06.94zm10 10l.94 2.06.94-2.06 2.06-.94-2.06-.94-.94-2.06-.94 2.06-2.06.94z\"/><path d=\"M17.41 7.96l-1.37-1.37c-.4-.4-.92-.59-1.43-.59-.52 0-1.04.2-1.43.59L10.3 9.45l-7.72 7.72c-.78.78-.78 2.05 0 2.83L4 21.41c.39.39.9.59 1.41.59.51 0 1.02-.2 1.41-.59l7.78-7.78 2.81-2.81c.8-.78.8-2.07 0-2.86zM5.41 20L4 18.59l7.72-7.72 1.47 1.35L5.41 20z\"/>\n",
              "  </svg>\n",
              "      </button>\n",
              "      \n",
              "  <style>\n",
              "    .colab-df-container {\n",
              "      display:flex;\n",
              "      flex-wrap:wrap;\n",
              "      gap: 12px;\n",
              "    }\n",
              "\n",
              "    .colab-df-convert {\n",
              "      background-color: #E8F0FE;\n",
              "      border: none;\n",
              "      border-radius: 50%;\n",
              "      cursor: pointer;\n",
              "      display: none;\n",
              "      fill: #1967D2;\n",
              "      height: 32px;\n",
              "      padding: 0 0 0 0;\n",
              "      width: 32px;\n",
              "    }\n",
              "\n",
              "    .colab-df-convert:hover {\n",
              "      background-color: #E2EBFA;\n",
              "      box-shadow: 0px 1px 2px rgba(60, 64, 67, 0.3), 0px 1px 3px 1px rgba(60, 64, 67, 0.15);\n",
              "      fill: #174EA6;\n",
              "    }\n",
              "\n",
              "    [theme=dark] .colab-df-convert {\n",
              "      background-color: #3B4455;\n",
              "      fill: #D2E3FC;\n",
              "    }\n",
              "\n",
              "    [theme=dark] .colab-df-convert:hover {\n",
              "      background-color: #434B5C;\n",
              "      box-shadow: 0px 1px 3px 1px rgba(0, 0, 0, 0.15);\n",
              "      filter: drop-shadow(0px 1px 2px rgba(0, 0, 0, 0.3));\n",
              "      fill: #FFFFFF;\n",
              "    }\n",
              "  </style>\n",
              "\n",
              "      <script>\n",
              "        const buttonEl =\n",
              "          document.querySelector('#df-f65e4ab4-9c8c-44d1-9014-c22e8222a83d button.colab-df-convert');\n",
              "        buttonEl.style.display =\n",
              "          google.colab.kernel.accessAllowed ? 'block' : 'none';\n",
              "\n",
              "        async function convertToInteractive(key) {\n",
              "          const element = document.querySelector('#df-f65e4ab4-9c8c-44d1-9014-c22e8222a83d');\n",
              "          const dataTable =\n",
              "            await google.colab.kernel.invokeFunction('convertToInteractive',\n",
              "                                                     [key], {});\n",
              "          if (!dataTable) return;\n",
              "\n",
              "          const docLinkHtml = 'Like what you see? Visit the ' +\n",
              "            '<a target=\"_blank\" href=https://colab.research.google.com/notebooks/data_table.ipynb>data table notebook</a>'\n",
              "            + ' to learn more about interactive tables.';\n",
              "          element.innerHTML = '';\n",
              "          dataTable['output_type'] = 'display_data';\n",
              "          await google.colab.output.renderOutput(dataTable, element);\n",
              "          const docLink = document.createElement('div');\n",
              "          docLink.innerHTML = docLinkHtml;\n",
              "          element.appendChild(docLink);\n",
              "        }\n",
              "      </script>\n",
              "    </div>\n",
              "  </div>\n",
              "  "
            ],
            "text/plain": [
              "   song_duration_ms  acousticness  ...  time_signature  audio_valence\n",
              "0          308523.0      0.019845  ...               4       0.399620\n",
              "1          200011.0      0.070119  ...               3       0.499424\n",
              "2          279758.0      0.810637  ...               3       0.564951\n",
              "3          249197.0           NaN  ...               4       0.906485\n",
              "4               NaN      0.765568  ...               3       0.935571\n",
              "\n",
              "[5 rows x 13 columns]"
            ]
          },
          "metadata": {},
          "execution_count": 69
        }
      ]
    },
    {
      "cell_type": "code",
      "source": [
        "for y in test.columns:\n",
        "  test[y] = imputer.fit_transform(test[[y]]).ravel()"
      ],
      "metadata": {
        "id": "57x2nshaiWFo"
      },
      "execution_count": null,
      "outputs": []
    },
    {
      "cell_type": "code",
      "source": [
        "test.isnull().sum()"
      ],
      "metadata": {
        "colab": {
          "base_uri": "https://localhost:8080/"
        },
        "id": "HkbwtgJKFZSU",
        "outputId": "3a002c5d-8c43-4b79-fe79-f0d161448bff"
      },
      "execution_count": null,
      "outputs": [
        {
          "output_type": "execute_result",
          "data": {
            "text/plain": [
              "song_duration_ms    0\n",
              "acousticness        0\n",
              "danceability        0\n",
              "energy              0\n",
              "instrumentalness    0\n",
              "key                 0\n",
              "liveness            0\n",
              "loudness            0\n",
              "audio_mode          0\n",
              "speechiness         0\n",
              "tempo               0\n",
              "time_signature      0\n",
              "audio_valence       0\n",
              "dtype: int64"
            ]
          },
          "metadata": {},
          "execution_count": 31
        }
      ]
    },
    {
      "cell_type": "code",
      "source": [
        "from sklearn.model_selection import train_test_split\n",
        "from sklearn.model_selection import cross_val_score\n",
        "\n",
        "X = train.drop(['song_popularity'], axis=1)\n",
        "y = train['song_popularity']\n",
        "X_train, X_val, y_train, y_val = train_test_split(X, y, test_size =0.2, random_state = 662)"
      ],
      "metadata": {
        "id": "fY3NGdTuGHrO"
      },
      "execution_count": null,
      "outputs": []
    },
    {
      "cell_type": "markdown",
      "source": [
        "PCA"
      ],
      "metadata": {
        "id": "A4DEXtWiAhCH"
      }
    },
    {
      "cell_type": "code",
      "source": [
        "from sklearn.preprocessing import StandardScaler\n",
        "\n",
        "scaler =StandardScaler()\n",
        "scaler.fit(X_train)\n",
        "\n",
        "X_train_scaler = scaler.transform(X_train)\n",
        "X_val_scaler = scaler.transform(X_val)"
      ],
      "metadata": {
        "id": "SSpjX5UTr4BF"
      },
      "execution_count": null,
      "outputs": []
    },
    {
      "cell_type": "code",
      "source": [
        "from sklearn.decomposition import PCA\n",
        "\n",
        "# we want the explained variance to be between 95%.\n",
        "pca = PCA(n_components=2)\n",
        "pca.fit(X_train_scaler)\n",
        "pca.n_components_"
      ],
      "metadata": {
        "id": "ajQqfnvntIUw"
      },
      "execution_count": null,
      "outputs": []
    },
    {
      "cell_type": "code",
      "source": [
        "X_train_pca = pca.transform(X_train_scaler)\n",
        "X_val_pca = pca.transform(X_val_scaler)"
      ],
      "metadata": {
        "id": "3BuujxzOtoOL"
      },
      "execution_count": null,
      "outputs": []
    },
    {
      "cell_type": "markdown",
      "source": [
        "MODELING"
      ],
      "metadata": {
        "id": "97A_LTZeJg0B"
      }
    },
    {
      "cell_type": "code",
      "source": [
        "from sklearn.ensemble import RandomForestClassifier\n",
        "from imblearn.metrics import classification_report_imbalanced"
      ],
      "metadata": {
        "id": "_5mrdSDTuulO"
      },
      "execution_count": null,
      "outputs": []
    },
    {
      "cell_type": "code",
      "source": [
        "from sklearn.neighbors import KNeighborsClassifier"
      ],
      "metadata": {
        "id": "wjWYZyqsgRTT"
      },
      "execution_count": null,
      "outputs": []
    },
    {
      "cell_type": "code",
      "source": [
        "model = RandomForestClassifier(random_state=1772, class_weight='balanced', max_features= 'auto', n_estimators= 300)\n",
        "model.fit(X_train_pca, y_train)\n",
        "\n",
        "pred = model.predict(X_val_pca)\n",
        "print(classification_report_imbalanced(y_val, pred))"
      ],
      "metadata": {
        "colab": {
          "base_uri": "https://localhost:8080/"
        },
        "id": "Y3DOKUrEJdK1",
        "outputId": "1b7e47ca-0315-433c-80ee-5404c085782e"
      },
      "execution_count": null,
      "outputs": [
        {
          "output_type": "stream",
          "name": "stdout",
          "text": [
            "                   pre       rec       spe        f1       geo       iba       sup\n",
            "\n",
            "          0       0.63      0.85      0.15      0.73      0.36      0.14      5052\n",
            "          1       0.38      0.15      0.85      0.22      0.36      0.12      2948\n",
            "\n",
            "avg / total       0.54      0.60      0.41      0.54      0.36      0.13      8000\n",
            "\n"
          ]
        }
      ]
    },
    {
      "cell_type": "code",
      "source": [
        "from sklearn.model_selection import GridSearchCV\n",
        "from sklearn.metrics import make_scorer\n",
        "\n",
        "params = { 'max_features':['auto', 'log2', 9], \n",
        "               'n_estimators': [100, 200, 300]}\n",
        "roc_auc = make_scorer(roc_auc_score, greater_is_better=True,\n",
        "                             needs_threshold=True)\n",
        "rf_gd=GridSearchCV(RandomForestClassifier(random_state=66), param_grid = params, verbose=True, \n",
        "                cv=3, scoring = roc_auc)\n",
        "rf_gd.fit(X_train_pca, y_train)\n",
        "print(rf_gd.best_score_)\n",
        "print(rf_gd.best_estimator_)\n",
        "print(rf_gd.best_params_)"
      ],
      "metadata": {
        "colab": {
          "base_uri": "https://localhost:8080/"
        },
        "id": "YGv58B37thDF",
        "outputId": "b217cbb2-7cfc-4394-8435-0b25d6b974d6"
      },
      "execution_count": null,
      "outputs": [
        {
          "output_type": "stream",
          "name": "stdout",
          "text": [
            "Fitting 3 folds for each of 9 candidates, totalling 27 fits\n",
            "0.5385003465290965\n",
            "RandomForestClassifier(n_estimators=300, random_state=66)\n",
            "{'max_features': 'auto', 'n_estimators': 300}\n"
          ]
        }
      ]
    },
    {
      "cell_type": "code",
      "source": [
        "from sklearn.metrics import roc_auc_score\n",
        "\n",
        "pred = rf_gd.predict(X_val_pca)\n",
        "print(\"AUC score:\", roc_auc_score(y_val, pred))"
      ],
      "metadata": {
        "colab": {
          "base_uri": "https://localhost:8080/"
        },
        "id": "DEYOt6iRrswm",
        "outputId": "abdc0666-7ad1-431b-8652-944a499552b7"
      },
      "execution_count": null,
      "outputs": [
        {
          "output_type": "stream",
          "name": "stdout",
          "text": [
            "AUC score: 0.5039639311539903\n"
          ]
        }
      ]
    },
    {
      "cell_type": "code",
      "source": [
        "from sklearn.model_selection import GridSearchCV\n",
        "from sklearn.metrics import make_scorer\n",
        "\n",
        "params = {'algorithm': ['auto'], 'weights': ['uniform', 'distance'], 'leaf_size': list(range(1,10,2)), \n",
        "               'n_neighbors': [100, 500]}\n",
        "roc_auc = make_scorer(roc_auc_score, greater_is_better=True,\n",
        "                             needs_threshold=True)\n",
        "knn_gd=GridSearchCV(knn, param_grid = params, verbose=True, \n",
        "                cv=3, scoring = roc_auc)\n",
        "knn_gd.fit(X_train_pca, y_train)\n",
        "print(knn_gd.best_score_)\n",
        "print(knn_gd.best_estimator_)\n",
        "print(knn_gd.best_params_)"
      ],
      "metadata": {
        "colab": {
          "base_uri": "https://localhost:8080/"
        },
        "id": "XumrHbzVgSrD",
        "outputId": "56698c61-cf7d-43c8-b66c-2fa1987a0307"
      },
      "execution_count": null,
      "outputs": [
        {
          "output_type": "stream",
          "name": "stdout",
          "text": [
            "Fitting 3 folds for each of 20 candidates, totalling 60 fits\n",
            "0.5536707433991849\n",
            "KNeighborsClassifier(leaf_size=1, n_neighbors=500, weights='distance')\n",
            "{'algorithm': 'auto', 'leaf_size': 1, 'n_neighbors': 500, 'weights': 'distance'}\n"
          ]
        }
      ]
    },
    {
      "cell_type": "code",
      "source": [
        "knn = KNeighborsClassifier(leaf_size=1, n_neighbors=300, weights='distance')\n",
        "knn.fit(X_train_pca,y_train)\n",
        "\n",
        "knn_pred = knn.predict(X_val_pca)\n",
        "print(classification_report_imbalanced(y_val, pred))"
      ],
      "metadata": {
        "colab": {
          "base_uri": "https://localhost:8080/"
        },
        "id": "qTMsnW5ajPzi",
        "outputId": "863d4eff-a443-44f7-9140-a1c6dfa8c83b"
      },
      "execution_count": null,
      "outputs": [
        {
          "output_type": "stream",
          "name": "stdout",
          "text": [
            "                   pre       rec       spe        f1       geo       iba       sup\n",
            "\n",
            "          0       0.64      0.85      0.16      0.73      0.37      0.15      5052\n",
            "          1       0.39      0.16      0.85      0.23      0.37      0.13      2948\n",
            "\n",
            "avg / total       0.54      0.60      0.42      0.54      0.37      0.14      8000\n",
            "\n"
          ]
        }
      ]
    },
    {
      "cell_type": "code",
      "source": [
        "from sklearn.metrics import roc_auc_score\n",
        "\n",
        "print(\"AUC score:\", roc_auc_score(y_val, knn_gd.predict(X_val_pca)))"
      ],
      "metadata": {
        "colab": {
          "base_uri": "https://localhost:8080/"
        },
        "id": "GlZMupRVsLXO",
        "outputId": "e8a1bb6b-94c4-4a00-e091-ac7aa140c96f"
      },
      "execution_count": null,
      "outputs": [
        {
          "output_type": "stream",
          "name": "stdout",
          "text": [
            "AUC score: 0.5\n"
          ]
        }
      ]
    },
    {
      "cell_type": "markdown",
      "source": [
        "Deployment"
      ],
      "metadata": {
        "id": "3cb0bDBT_PvZ"
      }
    },
    {
      "cell_type": "code",
      "source": [
        "X_scaler = scaler.transform(X)\n",
        "X_pca = pca.transform(X_scaler)"
      ],
      "metadata": {
        "id": "Lt5NTUTyjwt4"
      },
      "execution_count": null,
      "outputs": []
    },
    {
      "cell_type": "code",
      "source": [
        "knn = KNeighborsClassifier(leaf_size=1, n_neighbors=300, weights='distance')\n",
        "knn.fit(X_pca, y)"
      ],
      "metadata": {
        "colab": {
          "base_uri": "https://localhost:8080/"
        },
        "id": "rIYYltiAksF4",
        "outputId": "2798b9c3-a294-45d1-cd38-2ca49f5ae618"
      },
      "execution_count": null,
      "outputs": [
        {
          "output_type": "execute_result",
          "data": {
            "text/plain": [
              "KNeighborsClassifier(leaf_size=1, n_neighbors=300, weights='distance')"
            ]
          },
          "metadata": {},
          "execution_count": 56
        }
      ]
    },
    {
      "cell_type": "code",
      "source": [
        "model = RandomForestClassifier(random_state=1772, n_estimators= 200, class_weight='balanced')\n",
        "model.fit(X_pca, y)"
      ],
      "metadata": {
        "colab": {
          "base_uri": "https://localhost:8080/"
        },
        "outputId": "20b79a89-7a33-46f5-8a5a-c2c22bce3d90",
        "id": "sVxP3_-K_OZl"
      },
      "execution_count": null,
      "outputs": [
        {
          "output_type": "execute_result",
          "data": {
            "text/plain": [
              "RandomForestClassifier(class_weight='balanced', n_estimators=200,\n",
              "                       random_state=1772)"
            ]
          },
          "metadata": {},
          "execution_count": 49
        }
      ]
    },
    {
      "cell_type": "code",
      "source": [
        "test_scaler = scaler.transform(test)\n",
        "test_pca = pca.transform(test_scaler)\n",
        "test_pred1 = knn.predict(test_pca)"
      ],
      "metadata": {
        "id": "MPRhitE88jCu"
      },
      "execution_count": null,
      "outputs": []
    },
    {
      "cell_type": "code",
      "source": [
        "test_pred2 = model.predict(test_pca)"
      ],
      "metadata": {
        "id": "KBhSpRImLun8"
      },
      "execution_count": null,
      "outputs": []
    },
    {
      "cell_type": "code",
      "source": [
        "submit = pd.DataFrame()\n",
        "submit['id'] = df_test['id']\n",
        "submit['song_popularity']=test_pred1\n",
        "submit.head()"
      ],
      "metadata": {
        "colab": {
          "base_uri": "https://localhost:8080/",
          "height": 206
        },
        "id": "QwsKvsdbLs7r",
        "outputId": "0eda919c-8398-44b8-a89c-7f12a11ab21a"
      },
      "execution_count": null,
      "outputs": [
        {
          "output_type": "execute_result",
          "data": {
            "text/html": [
              "\n",
              "  <div id=\"df-6a4c2dff-9af3-433b-b124-55bbf98d7be7\">\n",
              "    <div class=\"colab-df-container\">\n",
              "      <div>\n",
              "<style scoped>\n",
              "    .dataframe tbody tr th:only-of-type {\n",
              "        vertical-align: middle;\n",
              "    }\n",
              "\n",
              "    .dataframe tbody tr th {\n",
              "        vertical-align: top;\n",
              "    }\n",
              "\n",
              "    .dataframe thead th {\n",
              "        text-align: right;\n",
              "    }\n",
              "</style>\n",
              "<table border=\"1\" class=\"dataframe\">\n",
              "  <thead>\n",
              "    <tr style=\"text-align: right;\">\n",
              "      <th></th>\n",
              "      <th>id</th>\n",
              "      <th>song_popularity</th>\n",
              "    </tr>\n",
              "  </thead>\n",
              "  <tbody>\n",
              "    <tr>\n",
              "      <th>0</th>\n",
              "      <td>0</td>\n",
              "      <td>0</td>\n",
              "    </tr>\n",
              "    <tr>\n",
              "      <th>1</th>\n",
              "      <td>1</td>\n",
              "      <td>0</td>\n",
              "    </tr>\n",
              "    <tr>\n",
              "      <th>2</th>\n",
              "      <td>2</td>\n",
              "      <td>0</td>\n",
              "    </tr>\n",
              "    <tr>\n",
              "      <th>3</th>\n",
              "      <td>3</td>\n",
              "      <td>0</td>\n",
              "    </tr>\n",
              "    <tr>\n",
              "      <th>4</th>\n",
              "      <td>4</td>\n",
              "      <td>0</td>\n",
              "    </tr>\n",
              "  </tbody>\n",
              "</table>\n",
              "</div>\n",
              "      <button class=\"colab-df-convert\" onclick=\"convertToInteractive('df-6a4c2dff-9af3-433b-b124-55bbf98d7be7')\"\n",
              "              title=\"Convert this dataframe to an interactive table.\"\n",
              "              style=\"display:none;\">\n",
              "        \n",
              "  <svg xmlns=\"http://www.w3.org/2000/svg\" height=\"24px\"viewBox=\"0 0 24 24\"\n",
              "       width=\"24px\">\n",
              "    <path d=\"M0 0h24v24H0V0z\" fill=\"none\"/>\n",
              "    <path d=\"M18.56 5.44l.94 2.06.94-2.06 2.06-.94-2.06-.94-.94-2.06-.94 2.06-2.06.94zm-11 1L8.5 8.5l.94-2.06 2.06-.94-2.06-.94L8.5 2.5l-.94 2.06-2.06.94zm10 10l.94 2.06.94-2.06 2.06-.94-2.06-.94-.94-2.06-.94 2.06-2.06.94z\"/><path d=\"M17.41 7.96l-1.37-1.37c-.4-.4-.92-.59-1.43-.59-.52 0-1.04.2-1.43.59L10.3 9.45l-7.72 7.72c-.78.78-.78 2.05 0 2.83L4 21.41c.39.39.9.59 1.41.59.51 0 1.02-.2 1.41-.59l7.78-7.78 2.81-2.81c.8-.78.8-2.07 0-2.86zM5.41 20L4 18.59l7.72-7.72 1.47 1.35L5.41 20z\"/>\n",
              "  </svg>\n",
              "      </button>\n",
              "      \n",
              "  <style>\n",
              "    .colab-df-container {\n",
              "      display:flex;\n",
              "      flex-wrap:wrap;\n",
              "      gap: 12px;\n",
              "    }\n",
              "\n",
              "    .colab-df-convert {\n",
              "      background-color: #E8F0FE;\n",
              "      border: none;\n",
              "      border-radius: 50%;\n",
              "      cursor: pointer;\n",
              "      display: none;\n",
              "      fill: #1967D2;\n",
              "      height: 32px;\n",
              "      padding: 0 0 0 0;\n",
              "      width: 32px;\n",
              "    }\n",
              "\n",
              "    .colab-df-convert:hover {\n",
              "      background-color: #E2EBFA;\n",
              "      box-shadow: 0px 1px 2px rgba(60, 64, 67, 0.3), 0px 1px 3px 1px rgba(60, 64, 67, 0.15);\n",
              "      fill: #174EA6;\n",
              "    }\n",
              "\n",
              "    [theme=dark] .colab-df-convert {\n",
              "      background-color: #3B4455;\n",
              "      fill: #D2E3FC;\n",
              "    }\n",
              "\n",
              "    [theme=dark] .colab-df-convert:hover {\n",
              "      background-color: #434B5C;\n",
              "      box-shadow: 0px 1px 3px 1px rgba(0, 0, 0, 0.15);\n",
              "      filter: drop-shadow(0px 1px 2px rgba(0, 0, 0, 0.3));\n",
              "      fill: #FFFFFF;\n",
              "    }\n",
              "  </style>\n",
              "\n",
              "      <script>\n",
              "        const buttonEl =\n",
              "          document.querySelector('#df-6a4c2dff-9af3-433b-b124-55bbf98d7be7 button.colab-df-convert');\n",
              "        buttonEl.style.display =\n",
              "          google.colab.kernel.accessAllowed ? 'block' : 'none';\n",
              "\n",
              "        async function convertToInteractive(key) {\n",
              "          const element = document.querySelector('#df-6a4c2dff-9af3-433b-b124-55bbf98d7be7');\n",
              "          const dataTable =\n",
              "            await google.colab.kernel.invokeFunction('convertToInteractive',\n",
              "                                                     [key], {});\n",
              "          if (!dataTable) return;\n",
              "\n",
              "          const docLinkHtml = 'Like what you see? Visit the ' +\n",
              "            '<a target=\"_blank\" href=https://colab.research.google.com/notebooks/data_table.ipynb>data table notebook</a>'\n",
              "            + ' to learn more about interactive tables.';\n",
              "          element.innerHTML = '';\n",
              "          dataTable['output_type'] = 'display_data';\n",
              "          await google.colab.output.renderOutput(dataTable, element);\n",
              "          const docLink = document.createElement('div');\n",
              "          docLink.innerHTML = docLinkHtml;\n",
              "          element.appendChild(docLink);\n",
              "        }\n",
              "      </script>\n",
              "    </div>\n",
              "  </div>\n",
              "  "
            ],
            "text/plain": [
              "   id  song_popularity\n",
              "0   0                0\n",
              "1   1                0\n",
              "2   2                0\n",
              "3   3                0\n",
              "4   4                0"
            ]
          },
          "metadata": {},
          "execution_count": 58
        }
      ]
    },
    {
      "cell_type": "code",
      "source": [
        "submit['song_popularity'].value_counts()"
      ],
      "metadata": {
        "colab": {
          "base_uri": "https://localhost:8080/"
        },
        "id": "J2zSfkVeARFC",
        "outputId": "0139f558-1c7a-47f8-d2b6-182624fb93ee"
      },
      "execution_count": null,
      "outputs": [
        {
          "output_type": "execute_result",
          "data": {
            "text/plain": [
              "0    9973\n",
              "1      27\n",
              "Name: song_popularity, dtype: int64"
            ]
          },
          "metadata": {},
          "execution_count": 59
        }
      ]
    },
    {
      "cell_type": "code",
      "source": [
        "submit.to_csv(\"submission.csv\", index = False)"
      ],
      "metadata": {
        "id": "6VjwIDv--B2w"
      },
      "execution_count": null,
      "outputs": []
    },
    {
      "cell_type": "code",
      "source": [
        ""
      ],
      "metadata": {
        "id": "_VgbgSjAeJ5y"
      },
      "execution_count": null,
      "outputs": []
    }
  ]
}